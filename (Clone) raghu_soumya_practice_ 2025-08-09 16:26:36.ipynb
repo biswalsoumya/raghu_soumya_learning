{
 "cells": [
  {
   "cell_type": "code",
   "execution_count": 0,
   "metadata": {
    "application/vnd.databricks.v1+cell": {
     "cellMetadata": {},
     "inputWidgets": {},
     "nuid": "9f8a0f68-712b-4720-bc91-0313dd9c18f9",
     "showTitle": false,
     "tableResultSettingsMap": {},
     "title": ""
    }
   },
   "outputs": [],
   "source": [
    "from pyspark.sql.types import StructType, StructField, IntegerType, StringType\n",
    "\n",
    "# Define department schema\n",
    "dept_schema = StructType([\n",
    "    StructField(\"dept_id\", IntegerType(), True),\n",
    "    StructField(\"dept_name\", StringType(), True)\n",
    "])\n",
    "\n",
    "# Sample data\n",
    "dept_data = [\n",
    "    (1, \"HR\"),\n",
    "    (2, \"IT\"),\n",
    "    (3, \"Finance\"),\n",
    "    (4, \"Marketing\")\n",
    "]\n",
    "\n",
    "# Create DataFrame\n",
    "dept_df = spark.createDataFrame(dept_data, schema=dept_schema)\n",
    "\n",
    "# Save as Delta table\n",
    "dept_df.write.format(\"delta\").mode(\"overwrite\").saveAsTable(\"department\")\n"
   ]
  }
 ],
 "metadata": {
  "application/vnd.databricks.v1+notebook": {
   "computePreferences": null,
   "dashboards": [],
   "environmentMetadata": {
    "base_environment": "",
    "environment_version": "2"
   },
   "inputWidgetPreferences": null,
   "language": "python",
   "notebookMetadata": {
    "pythonIndentUnit": 4
   },
   "notebookName": "(Clone) raghu_soumya_practice_ 2025-08-09 16:26:36",
   "widgets": {}
  },
  "language_info": {
   "name": "python"
  }
 },
 "nbformat": 4,
 "nbformat_minor": 0
}
